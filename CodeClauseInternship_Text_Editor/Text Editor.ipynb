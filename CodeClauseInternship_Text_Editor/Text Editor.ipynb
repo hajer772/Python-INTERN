{
 "cells": [
  {
   "cell_type": "code",
   "execution_count": 1,
   "id": "c28611b3",
   "metadata": {},
   "outputs": [],
   "source": [
    "import tkinter as tk\n",
    "from tkinter import filedialog"
   ]
  },
  {
   "cell_type": "code",
   "execution_count": 2,
   "id": "dfb34ec2",
   "metadata": {},
   "outputs": [],
   "source": [
    "def open_file():\n",
    "    file_path = filedialog.askopenfilename()\n",
    "    if file_path:\n",
    "        with open(file_path, 'r') as file:\n",
    "            text.delete('1.0', tk.END)\n",
    "            text.insert(tk.END, file.read())"
   ]
  },
  {
   "cell_type": "code",
   "execution_count": 3,
   "id": "cfbc04bf",
   "metadata": {},
   "outputs": [],
   "source": [
    "def save_file():\n",
    "    file_path = filedialog.asksaveasfilename(defaultextension='.txt')\n",
    "    if file_path:\n",
    "        with open(file_path, 'w') as file:\n",
    "            file.write(text.get('1.0', tk.END))\n"
   ]
  },
  {
   "cell_type": "code",
   "execution_count": 4,
   "id": "c6d0f919",
   "metadata": {},
   "outputs": [
    {
     "data": {
      "text/plain": [
       "''"
      ]
     },
     "execution_count": 4,
     "metadata": {},
     "output_type": "execute_result"
    }
   ],
   "source": [
    "root = tk.Tk()\n",
    "root.title(\"Text Editor\")"
   ]
  },
  {
   "cell_type": "code",
   "execution_count": 5,
   "id": "455245e0",
   "metadata": {},
   "outputs": [],
   "source": [
    "text = tk.Text(root)\n",
    "text.pack()"
   ]
  },
  {
   "cell_type": "code",
   "execution_count": 6,
   "id": "08764a4f",
   "metadata": {},
   "outputs": [],
   "source": [
    "menu_bar = tk.Menu(root)\n",
    "root.config(menu=menu_bar)"
   ]
  },
  {
   "cell_type": "code",
   "execution_count": 7,
   "id": "cbd529a0",
   "metadata": {},
   "outputs": [],
   "source": [
    "file_menu = tk.Menu(menu_bar, tearoff=False)\n",
    "menu_bar.add_cascade(label=\"File\", menu=file_menu)\n",
    "file_menu.add_command(label=\"Open\", command=open_file)\n",
    "file_menu.add_command(label=\"Save\", command=save_file)"
   ]
  },
  {
   "cell_type": "code",
   "execution_count": 8,
   "id": "38ba6103",
   "metadata": {},
   "outputs": [],
   "source": [
    "root.mainloop()"
   ]
  }
 ],
 "metadata": {
  "kernelspec": {
   "display_name": "Python 3 (ipykernel)",
   "language": "python",
   "name": "python3"
  },
  "language_info": {
   "codemirror_mode": {
    "name": "ipython",
    "version": 3
   },
   "file_extension": ".py",
   "mimetype": "text/x-python",
   "name": "python",
   "nbconvert_exporter": "python",
   "pygments_lexer": "ipython3",
   "version": "3.9.13"
  }
 },
 "nbformat": 4,
 "nbformat_minor": 5
}
