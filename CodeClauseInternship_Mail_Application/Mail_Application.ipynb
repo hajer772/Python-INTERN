{
 "cells": [
  {
   "cell_type": "code",
   "execution_count": 1,
   "id": "017dda55",
   "metadata": {},
   "outputs": [],
   "source": [
    "import tkinter as tk\n",
    "from tkinter import messagebox\n",
    "import smtplib"
   ]
  },
  {
   "cell_type": "code",
   "execution_count": 2,
   "id": "9007c311",
   "metadata": {},
   "outputs": [],
   "source": [
    "def email_send(user_email,message):\n",
    "\n",
    "        email_sender = 'hagerashry0@gmail.com'\n",
    "        email_password = 'hlfcbaqyvxhdvghf'\n",
    "        smtp = smtplib.SMTP('smtp.gmail.com', 587)\n",
    "        smtp.starttls()\n",
    "        smtp.login(email_sender, email_password)\n",
    "        smtp.sendmail(email_sender, user_email, message)"
   ]
  },
  {
   "cell_type": "code",
   "execution_count": 3,
   "id": "a98ae25b",
   "metadata": {},
   "outputs": [],
   "source": [
    "def send_mail():\n",
    "    recipient = recipient_entry.get()\n",
    "    subject = subject_entry.get()\n",
    "    message = message_text.get(\"1.0\", tk.END)\n",
    "\n",
    "    email_send(recipient,message)\n",
    "    \n",
    "    messagebox.showinfo(\"Success\", \"Email sent successfully!\")"
   ]
  },
  {
   "cell_type": "code",
   "execution_count": 4,
   "id": "0f32fb59",
   "metadata": {},
   "outputs": [
    {
     "data": {
      "text/plain": [
       "''"
      ]
     },
     "execution_count": 4,
     "metadata": {},
     "output_type": "execute_result"
    }
   ],
   "source": [
    "root = tk.Tk()\n",
    "root.title(\"Mail Application\")"
   ]
  },
  {
   "cell_type": "code",
   "execution_count": 5,
   "id": "f4765246",
   "metadata": {},
   "outputs": [],
   "source": [
    "recipient_label = tk.Label(root, text=\"Recipient:\")\n",
    "recipient_label.pack()\n",
    "recipient_entry = tk.Entry(root)\n",
    "recipient_entry.pack()"
   ]
  },
  {
   "cell_type": "code",
   "execution_count": 6,
   "id": "6e897fc9",
   "metadata": {},
   "outputs": [],
   "source": [
    "subject_label = tk.Label(root, text=\"Subject:\")\n",
    "subject_label.pack()\n",
    "subject_entry = tk.Entry(root)\n",
    "subject_entry.pack()"
   ]
  },
  {
   "cell_type": "code",
   "execution_count": 7,
   "id": "6bdeb66b",
   "metadata": {},
   "outputs": [],
   "source": [
    "message_label = tk.Label(root, text=\"Message:\")\n",
    "message_label.pack()\n",
    "message_text = tk.Text(root, height=10)\n",
    "message_text.pack()"
   ]
  },
  {
   "cell_type": "code",
   "execution_count": 8,
   "id": "593f30c0",
   "metadata": {},
   "outputs": [],
   "source": [
    "send_button = tk.Button(root, text=\"Send\", command=send_mail)\n",
    "send_button.pack()"
   ]
  },
  {
   "cell_type": "code",
   "execution_count": 9,
   "id": "0956d0eb",
   "metadata": {},
   "outputs": [],
   "source": [
    "root.mainloop()"
   ]
  }
 ],
 "metadata": {
  "kernelspec": {
   "display_name": "Python 3 (ipykernel)",
   "language": "python",
   "name": "python3"
  },
  "language_info": {
   "codemirror_mode": {
    "name": "ipython",
    "version": 3
   },
   "file_extension": ".py",
   "mimetype": "text/x-python",
   "name": "python",
   "nbconvert_exporter": "python",
   "pygments_lexer": "ipython3",
   "version": "3.9.13"
  }
 },
 "nbformat": 4,
 "nbformat_minor": 5
}
