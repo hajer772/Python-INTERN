{
 "cells": [
  {
   "cell_type": "code",
   "execution_count": 1,
   "id": "783225ca",
   "metadata": {},
   "outputs": [
    {
     "name": "stdout",
     "output_type": "stream",
     "text": [
      "pygame 2.5.0 (SDL 2.28.0, Python 3.9.13)\n",
      "Hello from the pygame community. https://www.pygame.org/contribute.html\n"
     ]
    }
   ],
   "source": [
    "from tkinter import *\n",
    "from tkinter import filedialog\n",
    "import pygame.mixer as mixer       \n",
    "import os"
   ]
  },
  {
   "cell_type": "code",
   "execution_count": 2,
   "id": "bdfa0b5e",
   "metadata": {},
   "outputs": [],
   "source": [
    "root = Tk()\n",
    "root.geometry('550x180')\n",
    "root.title('Music Player')\n",
    "root.resizable(0, 0)\n",
    "mixer.init()"
   ]
  },
  {
   "cell_type": "code",
   "execution_count": 3,
   "id": "8395bccc",
   "metadata": {
    "scrolled": true
   },
   "outputs": [],
   "source": [
    "def load(listbox):\n",
    "    os.chdir(filedialog.askdirectory(title='Load file directory'))\n",
    "    Files = os.listdir()\n",
    "    for file in Files:\n",
    "        #common audio extensions file\n",
    "        if file.lower().endswith(\".mp3\") or file.lower().endswith(\".wav\") or file.lower().endswith(\".aif\") or file.lower().endswith(\".mid\"):\n",
    "            listbox.insert(END, track)\n",
    "\n",
    "def play_song(song_name: StringVar, songs_list: Listbox, status: StringVar):\n",
    "    song_name.set(songs_list.get(ACTIVE))\n",
    "    mixer.music.load(songs_list.get(ACTIVE))\n",
    "    mixer.music.play()\n",
    "    status.set(\" PLAYING\")\n",
    "\n",
    "def stop_song(status: StringVar):\n",
    "    mixer.music.stop()\n",
    "    status.set(\" STOPPED\")\n",
    "\n",
    "\n",
    "def pause_song(status: StringVar):\n",
    "    mixer.music.pause()\n",
    "    status.set(\" PAUSED\")\n",
    "\n",
    "def resume_song(status: StringVar):\n",
    "    mixer.music.unpause()\n",
    "    status.set(\" RESUMED\")"
   ]
  },
  {
   "cell_type": "code",
   "execution_count": 4,
   "id": "6f0c6ae5",
   "metadata": {},
   "outputs": [],
   "source": [
    "current_song = StringVar(root, value='Not selected')\n",
    "song_status = StringVar(root, value='Not Available')"
   ]
  },
  {
   "cell_type": "code",
   "execution_count": 5,
   "id": "b9495bcd",
   "metadata": {},
   "outputs": [],
   "source": [
    "lbl_song = Label(text='Current Song', fg='white',bg='black')\n",
    "song_frame = LabelFrame(root, labelwidget=lbl_song ,bg='black', width=400, height=60)\n",
    "song_frame.place(x=0, y=0)\n",
    "\n",
    "Label(song_frame, text='CURRENTLY PLAYING:', fg='white',bg='black', font=('Times', 10, 'bold')).place(x=5, y=20)\n",
    "\n",
    "song_lbl = Label(song_frame, textvariable=current_song,  fg='white', bg='seagreen', font=(\"Times\", 10), width=30)\n",
    "song_lbl.place(x=150, y=20)\n",
    "\n"
   ]
  },
  {
   "cell_type": "code",
   "execution_count": 6,
   "id": "8f564ab4",
   "metadata": {},
   "outputs": [],
   "source": [
    "lbl_listbox = Label(text='Playlist', fg='white',bg='black')\n",
    "ltbx_frame = LabelFrame(root, labelwidget=lbl_listbox, bg='black')\n",
    "ltbx_frame.place(x=400, y=0, height=170, width=150)\n",
    "playlist = Listbox(ltbx_frame, font=('Times', 10),selectforeground='white', selectbackground='seagreen')\n",
    "\n",
    "scroll_bar = Scrollbar(ltbx_frame, orient=VERTICAL)\n",
    "scroll_bar.pack(side=RIGHT, fill=BOTH)\n",
    "\n",
    "playlist.config(yscrollcommand=scroll_bar.set)\n",
    "\n",
    "scroll_bar.config(command=playlist.yview)\n",
    "\n",
    "playlist.pack(fill=BOTH, padx=5, pady=5)"
   ]
  },
  {
   "cell_type": "code",
   "execution_count": 7,
   "id": "2190e863",
   "metadata": {},
   "outputs": [],
   "source": [
    "\n",
    "lbl_button = Label(text='Control Buttons', fg='white',bg='black')\n",
    "btn_frame = LabelFrame(root, labelwidget=lbl_button, bg='black', width=400, height=110)\n",
    "btn_frame.place(y=60)\n",
    "\n",
    "pause_btn = Button(btn_frame, text='Pause', fg='white',bg='black', activebackground='seagreen', activeforeground='white', font=(\"Times\", 11), width=7,command=lambda: pause_song(song_status))\n",
    "pause_btn.place(x=15, y=10)\n",
    "\n",
    "stop_btn = Button(btn_frame, text='Stop', fg='white',bg='black', activebackground='seagreen', activeforeground='white',font=(\"Times\", 11), width=7,command=lambda: stop_song(song_status))\n",
    "stop_btn.place(x=105, y=10)\n",
    "\n",
    "play_btn = Button(btn_frame, text='Play', fg='white',bg='black', activebackground='seagreen',activeforeground='white',font=(\"Times\", 11), width=7,command=lambda: play_song(current_song, playlist, song_status))\n",
    "play_btn.place(x=195, y=10)\n",
    "\n",
    "resume_btn = Button(btn_frame, text='Resume', fg='white',bg='black', activebackground='seagreen',activeforeground='white',font=(\"Times\", 11), width=7,command=lambda: resume_song(song_status))\n",
    "resume_btn.place(x=285, y=10)\n",
    "\n",
    "load_btn = Button(btn_frame, text='Load Directory', fg='white',bg='black', activebackground='seagreen',activeforeground='white',font=(\"Times\", 11), width=37, command=lambda: load(playlist))\n",
    "load_btn.place(x=15, y=40)\n",
    "\n",
    "Label(root, textvariable=song_status, fg='white', bg='seagreen', font=('Times', 9), justify=LEFT).pack(side=BOTTOM, fill=X)"
   ]
  },
  {
   "cell_type": "code",
   "execution_count": 8,
   "id": "13975201",
   "metadata": {},
   "outputs": [],
   "source": [
    "root.mainloop()"
   ]
  }
 ],
 "metadata": {
  "kernelspec": {
   "display_name": "Python 3 (ipykernel)",
   "language": "python",
   "name": "python3"
  },
  "language_info": {
   "codemirror_mode": {
    "name": "ipython",
    "version": 3
   },
   "file_extension": ".py",
   "mimetype": "text/x-python",
   "name": "python",
   "nbconvert_exporter": "python",
   "pygments_lexer": "ipython3",
   "version": "3.9.13"
  }
 },
 "nbformat": 4,
 "nbformat_minor": 5
}
