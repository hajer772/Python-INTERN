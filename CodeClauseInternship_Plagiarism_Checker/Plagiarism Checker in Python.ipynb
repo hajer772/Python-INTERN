{
 "cells": [
  {
   "cell_type": "code",
   "execution_count": 1,
   "id": "0e791d4b",
   "metadata": {},
   "outputs": [],
   "source": [
    "import tkinter as tk\n",
    "from tkinter import filedialog\n",
    "from difflib import SequenceMatcher"
   ]
  },
  {
   "cell_type": "code",
   "execution_count": 2,
   "id": "30a9617a",
   "metadata": {},
   "outputs": [],
   "source": [
    "def open_file():\n",
    "    \n",
    "    file_path = filedialog.askopenfilename(title=\"Open Text File\")\n",
    "    \n",
    "    if file_path:\n",
    "        with open(file_path, 'r') as file:\n",
    "            text = file.read()\n",
    "            original_text_entry.delete(\"1.0\", tk.END)\n",
    "            original_text_entry.insert(tk.END, text)\n"
   ]
  },
  {
   "cell_type": "code",
   "execution_count": 3,
   "id": "03c42e29",
   "metadata": {},
   "outputs": [],
   "source": [
    "def calculate_similarity(text1, text2):\n",
    "    \n",
    "    if text1==text2:\n",
    "        similarity_ratio =1.00\n",
    "    else:\n",
    "        similarity_ratio = SequenceMatcher(None, text1, text2).ratio()\n",
    "        \n",
    "    return similarity_ratio"
   ]
  },
  {
   "cell_type": "code",
   "execution_count": 4,
   "id": "85b0e21f",
   "metadata": {},
   "outputs": [],
   "source": [
    "def check_plagiarism():\n",
    "    text1 = original_text_entry.get(\"1.0\", tk.END).replace(\"\\n\", \"\")\n",
    "    text2 = comparison_text_entry.get(\"1.0\", tk.END).replace(\"\\n\", \"\")\n",
    "    \n",
    "    if not text1 or not text2:\n",
    "        result_label.config(text=\"Please enter both texts.\")\n",
    "        return\n",
    "    \n",
    "    similarity_ratio = calculate_similarity(text1, text2)\n",
    "\n",
    "    result_label.config(text=f\"Similarity Ratio: {similarity_ratio:.2%}\")\n"
   ]
  },
  {
   "cell_type": "code",
   "execution_count": 5,
   "id": "27464f11",
   "metadata": {},
   "outputs": [],
   "source": [
    "root = tk.Tk()\n",
    "root.title(\"Plagiarism Checker\")\n",
    "\n",
    "original_text_label = tk.Label(root, text=\"MY Text/File Contant:\")\n",
    "original_text_label.pack()\n",
    "\n",
    "original_text_entry = tk.Text(root, height=10, width=50)\n",
    "original_text_entry.pack()\n",
    "\n",
    "comparison_text_label = tk.Label(root, text=\"Comparison Text:\")\n",
    "comparison_text_label.pack()\n",
    "\n",
    "comparison_text_entry = tk.Text(root, height=10, width=50)\n",
    "comparison_text_entry.pack()\n",
    "\n",
    "open_file_button = tk.Button(root, text=\"Open File\", command=open_file)\n",
    "open_file_button.pack()\n",
    "\n",
    "check_button = tk.Button(root, text=\"Check Plagiarism\", command=check_plagiarism)\n",
    "check_button.pack()\n",
    "\n",
    "result_label = tk.Label(root, text=\"\")\n",
    "result_label.pack()\n",
    "\n",
    "root.mainloop()"
   ]
  },
  {
   "cell_type": "code",
   "execution_count": null,
   "id": "06e43b3b",
   "metadata": {},
   "outputs": [],
   "source": []
  }
 ],
 "metadata": {
  "kernelspec": {
   "display_name": "Python 3 (ipykernel)",
   "language": "python",
   "name": "python3"
  },
  "language_info": {
   "codemirror_mode": {
    "name": "ipython",
    "version": 3
   },
   "file_extension": ".py",
   "mimetype": "text/x-python",
   "name": "python",
   "nbconvert_exporter": "python",
   "pygments_lexer": "ipython3",
   "version": "3.9.13"
  }
 },
 "nbformat": 4,
 "nbformat_minor": 5
}
